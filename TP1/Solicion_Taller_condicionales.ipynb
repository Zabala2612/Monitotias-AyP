{
  "nbformat": 4,
  "nbformat_minor": 0,
  "metadata": {
    "colab": {
      "provenance": [],
      "authorship_tag": "ABX9TyM3/cSwig7XIO2oGB3c2ajb",
      "include_colab_link": true
    },
    "kernelspec": {
      "name": "python3",
      "display_name": "Python 3"
    },
    "language_info": {
      "name": "python"
    }
  },
  "cells": [
    {
      "cell_type": "markdown",
      "metadata": {
        "id": "view-in-github",
        "colab_type": "text"
      },
      "source": [
        "<a href=\"https://colab.research.google.com/github/Zabala2612/Monitotias-AyP/blob/main/TP1/Solicion_Taller_condicionales.ipynb\" target=\"_parent\"><img src=\"https://colab.research.google.com/assets/colab-badge.svg\" alt=\"Open In Colab\"/></a>"
      ]
    },
    {
      "cell_type": "markdown",
      "source": [
        "#**Ejercicio 1**\n",
        "Escribir un programa en donde usted es una persona de seguridad de la discoteca \"Bailes locochones\". Para poder ingresar a la discoteca, se le debe preguntar por el nombre y la edad. Finalmente muestre el resultado cpn un mensaje si puede o no puede entrar a \"Bailes locochones\""
      ],
      "metadata": {
        "id": "-_6r7Rwpfbig"
      }
    },
    {
      "cell_type": "code",
      "execution_count": 3,
      "metadata": {
        "id": "ZG2eqOfVe7Ev",
        "colab": {
          "base_uri": "https://localhost:8080/"
        },
        "outputId": "e181cccd-75d9-4913-dfd6-7452e2ba1418"
      },
      "outputs": [
        {
          "output_type": "stream",
          "name": "stdout",
          "text": [
            "Hola, ¿cuál es tu nombre? Sofia\n",
            "¿Qué edad tienes? 21\n",
            "Hola Sofia, puedes entrar a 'Bailes locochones'. ¡Que te diviertas!\n"
          ]
        }
      ],
      "source": [
        "#Escriba su respuesta aquí\n",
        "\n",
        "\n",
        "# # Pedir el nombre y la edad de la persona\n",
        "nombre = input(\"Hola, ¿cuál es tu nombre? \")\n",
        "edad = int(input(\"¿Qué edad tienes? \"))\n",
        "\n",
        "# Condición para verificar si la persona es mayor de edad (mayor o igual a 18 años)\n",
        "if edad >= 18:\n",
        "    print(f\"Hola {nombre}, puedes entrar a 'Bailes locochones'. ¡Que te diviertas!\")\n",
        "else:\n",
        "    print(f\"Lo siento {nombre}, no puedes entrar a 'Bailes locochones'. Debes ser mayor de 18 años.\")\n",
        "\n",
        "\n"
      ]
    },
    {
      "cell_type": "markdown",
      "source": [
        "#**Ejercicio 2**\n",
        "Escribir un programa que pida al usuario dos números y devuelva su división. Si el usuario no introduce números debe devolver un aviso de error y si el divisor es cero también."
      ],
      "metadata": {
        "id": "5vGPCQ4cgIV5"
      }
    },
    {
      "cell_type": "code",
      "source": [
        "##Escriba su respuesta aquí\n",
        "\n",
        "\n",
        "# Pedir al usuario que introduzca dos números\n",
        "num1 = float(input(\"Introduce el primer número: \"))\n",
        "num2 = float(input(\"Introduce el segundo número (divisor): \"))\n",
        "\n",
        "# Verificar si el divisor es cero\n",
        "if num2 == 0:\n",
        "    print(\"Error: No se puede dividir entre cero.\")\n",
        "else:\n",
        "    # Realizar la división y mostrar el resultado\n",
        "    resultado = num1 / num2\n",
        "    print(f\"El resultado de {num1} dividido por {num2} es: {resultado}\")\n"
      ],
      "metadata": {
        "id": "4A7SxizYgdo0",
        "colab": {
          "base_uri": "https://localhost:8080/"
        },
        "outputId": "52019d94-833e-41f7-caa0-7e31edeac170"
      },
      "execution_count": 4,
      "outputs": [
        {
          "output_type": "stream",
          "name": "stdout",
          "text": [
            "Introduce el primer número: 17\n",
            "Introduce el segundo número (divisor): 4\n",
            "El resultado de 17.0 dividido por 4.0 es: 4.25\n"
          ]
        }
      ]
    },
    {
      "cell_type": "markdown",
      "source": [
        "#**Ejercicio 3**\n",
        "Escribir un programa que pida al usuario un número entero y muestre por pantalla si es par o impar.\n"
      ],
      "metadata": {
        "id": "SncRCWJIghvq"
      }
    },
    {
      "cell_type": "code",
      "source": [
        "##Escriba su respuesta aquí\n",
        "\n",
        "\n",
        "# Pedir al usuario que introduzca un número entero\n",
        "numero = int(input(\"Introduce un número entero: \"))\n",
        "\n",
        "# Verificar si el número es par o impar\n",
        "if numero % 2 == 0:\n",
        "    print(f\"El número {numero} es par.\")\n",
        "else:\n",
        "    print(f\"El número {numero} es impar.\")\n",
        "\n"
      ],
      "metadata": {
        "id": "o2TZgek0gwKG",
        "colab": {
          "base_uri": "https://localhost:8080/"
        },
        "outputId": "2e5b2e64-fd86-4455-c507-9007fe3e8d23"
      },
      "execution_count": 5,
      "outputs": [
        {
          "output_type": "stream",
          "name": "stdout",
          "text": [
            "Introduce un número entero: 20\n",
            "El número 20 es par.\n"
          ]
        }
      ]
    },
    {
      "cell_type": "markdown",
      "source": [
        "#**Ejercicio 4**\n",
        "Los tramos impositivos para la declaración de la renta en un determinado país son los siguientes:\n",
        "\n",
        "|         Renta          | Tipo impositivo |\n",
        "| :--------------------: | :-------------: |\n",
        "|    Menos de 10000€     |       5%        |\n",
        "| Entre 10000€ y 20000€  |       15%       |\n",
        "| Entre 20000€ y 35000€  |       20%       |\n",
        "| Entre 35000€ y 60000€  |       30%       |\n",
        "|     Más de 60000€      |       45%       |\n",
        "\n",
        "Escribir un programa que pregunte al usuario su renta anual y muestre por pantalla lo que tiene que pagar."
      ],
      "metadata": {
        "id": "vfQWHOzVgvtF"
      }
    },
    {
      "cell_type": "code",
      "source": [
        "# Escriba su respuesta aquí\n",
        "\n",
        "# Preguntar al usuario por la renta\n",
        "renta = float(input(\"¿Cuál es tu renta anual? \"))\n",
        "# Condicional para determinar el tipo impositivo dependiendo de la renta\n",
        "if renta < 10000:\n",
        "    tipo = 5\n",
        "elif renta < 20000:\n",
        "    tipo = 15\n",
        "elif renta < 35000:\n",
        "    tipo = 20\n",
        "elif renta < 60000:\n",
        "    tipo = 30\n",
        "else:\n",
        "    tipo = 45\n",
        "# Mostrar por pantalla el producto de la renta por el tipo impositivo\n",
        "print(\"Tienes que pagar \", renta * tipo / 100, \"€\", sep='')"
      ],
      "metadata": {
        "id": "gI1d8avChXDU",
        "colab": {
          "base_uri": "https://localhost:8080/"
        },
        "outputId": "dbc442ad-d762-44fd-ae93-46d4ebb3e855"
      },
      "execution_count": 6,
      "outputs": [
        {
          "output_type": "stream",
          "name": "stdout",
          "text": [
            "¿Cuál es tu renta anual? 300000\n",
            "Tienes que pagar 135000.0€\n"
          ]
        }
      ]
    },
    {
      "cell_type": "markdown",
      "source": [
        "#**Ejercicio 5**\n",
        "\n",
        "En Zabala´s company, sus empleados son evaluados al final de cada año. Los puntos que pueden obtener en la evaluación comienzan en 0.0 y pueden ir aumentando, lo que siginifica que obtendrán mejores beneficios.\n",
        "Los puntos que pueden conseguir los empleados pueden ser 0.0, 0.4. o 0.6, pero no valores intermedios entre las cifras mencionadas.\n",
        "A continuación se muestra una tabla con los niveles correspondientes a cada puntuación.\n",
        "La cantidad de dinero conseguida en cada nivel es de 2.400€ multiplicada por la puntuación del nivel.\n",
        "\n",
        "|    Nivel    | Puntuación |\n",
        "| :---------: | :--------: |\n",
        "| Inaceptable |    0.0     |\n",
        "|  Aceptable  |    0.4     |\n",
        "|  Meritorio  |    0.6     |\n",
        "\n",
        "Escribir un programa que lea la puntuación del usuario e indique su nivel de rendimiento, así como la cantidad de dinero que recibirá el usuario."
      ],
      "metadata": {
        "id": "2AnG_HV3heHN"
      }
    },
    {
      "cell_type": "code",
      "source": [
        "# Escriba su respuesta aquí\n",
        "\n",
        "bonificacion = 2400\n",
        "inaceptable = 0\n",
        "aceptable = 0.4\n",
        "meritorio = 0.6\n",
        "puntos = float(input(\"Introduce tu puntuación: \"))\n",
        "# Clasifiación por niveles de rendimiento\n",
        "if puntos == inaceptable:\n",
        "    nivel = \"Inaceptable\"\n",
        "elif puntos == aceptable:\n",
        "    nivel = \"Aceptable\"\n",
        "elif puntos >= 0.6:\n",
        "    nivel = \"Meritorio\"\n",
        "else:\n",
        "    nivel = \"\"\n",
        "# Mostrar nivel de rendimiento\n",
        "if nivel == \"\":\n",
        "    print(\"Esta puntuación no es válida\")\n",
        "else:\n",
        "    print(\"Tu nivel de rendimiento es %s\" % nivel)\n",
        "    print(\"Te corresponde cobrar %.2f€\" % (puntos * bonificacion))"
      ],
      "metadata": {
        "id": "ymbeAs4gicoP",
        "colab": {
          "base_uri": "https://localhost:8080/"
        },
        "outputId": "247907f1-7c86-4a09-ec7a-94de6c82c920"
      },
      "execution_count": 7,
      "outputs": [
        {
          "output_type": "stream",
          "name": "stdout",
          "text": [
            "Introduce tu puntuación: 0.6\n",
            "Tu nivel de rendimiento es Meritorio\n",
            "Te corresponde cobrar 1440.00€\n"
          ]
        }
      ]
    },
    {
      "cell_type": "markdown",
      "source": [
        "#**Ejercicio 6**\n",
        "Aventura mall tiene salas de juegos para todas las edades y quiere calcular de forma automática el precio que debe cobrar a sus clientes por entrar. El programa debe preguntar al usuario la edad del cliente y mostrar el precio de la entrada. Si el cliente es menor de 4 años puede entrar gratis, si tiene entre 4 y 18 años debe pagar 5€ y si es mayor de 18 años, 10€."
      ],
      "metadata": {
        "id": "P_tPNxo-ifhQ"
      }
    },
    {
      "cell_type": "code",
      "source": [
        "#Escriba su respuesta aquí\n",
        "\n",
        "\n",
        "# Pedir la edad del cliente\n",
        "edad = int(input(\"Introduce la edad del cliente: \"))\n",
        "\n",
        "# Determinar el precio según la edad\n",
        "if edad < 4:\n",
        "    print(\"La entrada es gratuita.\")\n",
        "elif 4 <= edad <= 18:\n",
        "    print(\"El precio de la entrada es de 5€.\")\n",
        "else:\n",
        "    print(\"El precio de la entrada es de 10€.\")\n",
        "\n"
      ],
      "metadata": {
        "id": "gdNDeWfIi6ou",
        "colab": {
          "base_uri": "https://localhost:8080/"
        },
        "outputId": "5373add1-96c6-4cf7-a374-fdc1ab8d0ca4"
      },
      "execution_count": 8,
      "outputs": [
        {
          "output_type": "stream",
          "name": "stdout",
          "text": [
            "Introduce la edad del cliente: 15\n",
            "El precio de la entrada es de 5€.\n"
          ]
        }
      ]
    },
    {
      "cell_type": "markdown",
      "source": [
        "#**Ejercicio 7**\n",
        "La hamburguesería Goat Burguer ofrece hamburguesas vegetarianas y no vegetarianas a sus clientes. Los ingredientes para cada tipo de hamburguesa aparecen a continuación:\n",
        "\n",
        "*   Ingredientes vegetarianos: Pimiento y tofu, carne de lentejas, tomate cherry, aguacate, pepinillo.\n",
        "*   Ingredientes no vegetarianos: Crane de res, pollo, Jamón, tocineta y salasas de la casa.\n",
        "\n",
        "Escribir un programa que pregunte al usuario si quiere una hamburguesa vegetariana o no, y en función de su respuesta le muestre un menú con los ingredientes disponibles para que elija. Solo se puede eligir un ingrediente además del queso y el tomate que están en todas las hamburguesas. Al final se debe mostrar por pantalla si el tipo de hamburguesa elegida es vegetariana o no y todos los ingredientes que lleva.\n"
      ],
      "metadata": {
        "id": "_fN6y0X3i-HC"
      }
    },
    {
      "cell_type": "code",
      "source": [
        "# Escriba su respuesta aquí\n",
        "\n",
        "\n",
        "# Listas de ingredientes vegetarianos y no vegetarianos\n",
        "ingredientes_vegetarianos = [\"Pimiento\", \"Tofu\", \"Carne de lentejas\", \"Tomate cherry\", \"Aguacate\", \"Pepinillo\"]\n",
        "ingredientes_no_vegetarianos = [\"Carne de res\", \"Pollo\", \"Jamón\", \"Tocineta\", \"Salsas de la casa\"]\n",
        "\n",
        "# Preguntar al usuario si quiere una hamburguesa vegetariana o no\n",
        "es_vegetariana = input(\"¿Quieres una hamburguesa vegetariana? (sí/no): \").lower()\n",
        "\n",
        "# Verificar el tipo de hamburguesa y mostrar el menú correspondiente\n",
        "if es_vegetariana == \"sí\":\n",
        "    print(\"Has elegido una hamburguesa vegetariana. Estos son los ingredientes disponibles:\")\n",
        "    for i, ingrediente in enumerate(ingredientes_vegetarianos, 1):\n",
        "        print(f\"{i}. {ingrediente}\")\n",
        "    # Pedir al usuario que elija un ingrediente\n",
        "    opcion = int(input(\"Elige un ingrediente (introduce el número): \"))\n",
        "    ingrediente_elegido = ingredientes_vegetarianos[opcion - 1]\n",
        "    tipo_hamburguesa = \"vegetariana\"\n",
        "else:\n",
        "    print(\"Has elegido una hamburguesa no vegetariana. Estos son los ingredientes disponibles:\")\n",
        "    for i, ingrediente in enumerate(ingredientes_no_vegetarianos, 1):\n",
        "        print(f\"{i}. {ingrediente}\")\n",
        "    # Pedir al usuario que elija un ingrediente\n",
        "    opcion = int(input(\"Elige un ingrediente (introduce el número): \"))\n",
        "    ingrediente_elegido = ingredientes_no_vegetarianos[opcion - 1]\n",
        "    tipo_hamburguesa = \"no vegetariana\"\n",
        "\n",
        "# Mostrar el resumen de la hamburguesa elegida\n",
        "print(f\"\\nHas elegido una hamburguesa {tipo_hamburguesa} con los siguientes ingredientes:\")\n",
        "print(\"Queso, Tomate, y\", ingrediente_elegido)\n"
      ],
      "metadata": {
        "id": "k1VcKO32jJPt",
        "colab": {
          "base_uri": "https://localhost:8080/"
        },
        "outputId": "8d92f030-2022-49a4-8582-d226393cdfa3"
      },
      "execution_count": 9,
      "outputs": [
        {
          "output_type": "stream",
          "name": "stdout",
          "text": [
            "¿Quieres una hamburguesa vegetariana? (sí/no): no\n",
            "Has elegido una hamburguesa no vegetariana. Estos son los ingredientes disponibles:\n",
            "1. Carne de res\n",
            "2. Pollo\n",
            "3. Jamón\n",
            "4. Tocineta\n",
            "5. Salsas de la casa\n",
            "Elige un ingrediente (introduce el número): 1\n",
            "\n",
            "Has elegido una hamburguesa no vegetariana con los siguientes ingredientes:\n",
            "Queso, Tomate, y Carne de res\n"
          ]
        }
      ]
    },
    {
      "cell_type": "markdown",
      "source": [
        "#**Ejercicio 8**\n",
        "Escriba un programa que pida dos números y que conteste cuál es el menor y cuál el mayor o que escriba que son iguales."
      ],
      "metadata": {
        "id": "YstVOH1SkOJT"
      }
    },
    {
      "cell_type": "code",
      "source": [
        "# Escriba su respuesta acá\n",
        "\n",
        "\n",
        "# Pedir al usuario dos números\n",
        "num1 = float(input(\"Introduce el primer número: \"))\n",
        "num2 = float(input(\"Introduce el segundo número: \"))\n",
        "\n",
        "# Comparar los números\n",
        "if num1 > num2:\n",
        "    print(f\"El número mayor es {num1} y el menor es {num2}.\")\n",
        "elif num2 > num1:\n",
        "    print(f\"El número mayor es {num2} y el menor es {num1}.\")\n",
        "else:\n",
        "    print(\"Los dos números son iguales.\")\n",
        "\n"
      ],
      "metadata": {
        "id": "ir0RwuXAkqSP",
        "colab": {
          "base_uri": "https://localhost:8080/"
        },
        "outputId": "d7809684-9020-405a-90f3-c31c5811a18f"
      },
      "execution_count": 10,
      "outputs": [
        {
          "output_type": "stream",
          "name": "stdout",
          "text": [
            "Introduce el primer número: 25\n",
            "Introduce el segundo número: 26\n",
            "El número mayor es 26.0 y el menor es 25.0.\n"
          ]
        }
      ]
    }
  ]
}