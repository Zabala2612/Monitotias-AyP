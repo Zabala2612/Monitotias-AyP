{
  "nbformat": 4,
  "nbformat_minor": 0,
  "metadata": {
    "colab": {
      "provenance": [],
      "authorship_tag": "ABX9TyOb1O0w4o3sGqbd2d54loeY",
      "include_colab_link": true
    },
    "kernelspec": {
      "name": "python3",
      "display_name": "Python 3"
    },
    "language_info": {
      "name": "python"
    }
  },
  "cells": [
    {
      "cell_type": "markdown",
      "metadata": {
        "id": "view-in-github",
        "colab_type": "text"
      },
      "source": [
        "<a href=\"https://colab.research.google.com/github/Zabala2612/Monitotias-AyP/blob/main/TP1/Taller_condicionales.ipynb\" target=\"_parent\"><img src=\"https://colab.research.google.com/assets/colab-badge.svg\" alt=\"Open In Colab\"/></a>"
      ]
    },
    {
      "cell_type": "markdown",
      "source": [
        "#**Ejercicio 1**\n",
        "Escribir un programa en donde usted es una persona de seguridad de la discoteca \"Bailes locochones\". Para poder ingresar a la discoteca, se le debe preguntar por el nombre y la edad. Finalmente muestre el resultado cpn un mensaje si puede o no puede entrar a \"Bailes locochones\""
      ],
      "metadata": {
        "id": "-_6r7Rwpfbig"
      }
    },
    {
      "cell_type": "code",
      "execution_count": null,
      "metadata": {
        "id": "ZG2eqOfVe7Ev"
      },
      "outputs": [],
      "source": [
        "#Escriba su respuesta aquí\n",
        "\n",
        "\n"
      ]
    },
    {
      "cell_type": "markdown",
      "source": [
        "#**Ejercicio 2**\n",
        "Escribir un programa que pida al usuario dos números y devuelva su división. Si el usuario no introduce números debe devolver un aviso de error y si el divisor es cero también."
      ],
      "metadata": {
        "id": "5vGPCQ4cgIV5"
      }
    },
    {
      "cell_type": "code",
      "source": [
        "##Escriba su respuesta aquí\n",
        "\n"
      ],
      "metadata": {
        "id": "4A7SxizYgdo0"
      },
      "execution_count": null,
      "outputs": []
    },
    {
      "cell_type": "markdown",
      "source": [
        "#**Ejercicio 3**\n",
        "Escribir un programa que pida al usuario un número entero y muestre por pantalla si es par o impar.\n"
      ],
      "metadata": {
        "id": "SncRCWJIghvq"
      }
    },
    {
      "cell_type": "code",
      "source": [
        "##Escriba su respuesta aquí\n",
        "\n"
      ],
      "metadata": {
        "id": "o2TZgek0gwKG"
      },
      "execution_count": null,
      "outputs": []
    },
    {
      "cell_type": "markdown",
      "source": [
        "#**Ejercicio 4**\n",
        "Los tramos impositivos para la declaración de la renta en un determinado país son los siguientes:\n",
        "\n",
        "|         Renta          | Tipo impositivo |\n",
        "| :--------------------: | :-------------: |\n",
        "|    Menos de 10000€     |       5%        |\n",
        "| Entre 10000€ y 20000€  |       15%       |\n",
        "| Entre 20000€ y 35000€  |       20%       |\n",
        "| Entre 35000€ y 60000€  |       30%       |\n",
        "|     Más de 60000€      |       45%       |\n",
        "\n",
        "Escribir un programa que pregunte al usuario su renta anual y muestre por pantalla lo que tiene que pagar."
      ],
      "metadata": {
        "id": "vfQWHOzVgvtF"
      }
    },
    {
      "cell_type": "code",
      "source": [
        "# Escriba su respuesta aquí\n",
        "\n"
      ],
      "metadata": {
        "id": "gI1d8avChXDU"
      },
      "execution_count": null,
      "outputs": []
    },
    {
      "cell_type": "markdown",
      "source": [
        "#**Ejercicio 5**\n",
        "\n",
        "En Zabala´s company, sus empleados son evaluados al final de cada año. Los puntos que pueden obtener en la evaluación comienzan en 0.0 y pueden ir aumentando, lo que siginifica que obtendrán mejores beneficios.\n",
        "Los puntos que pueden conseguir los empleados pueden ser 0.0, 0.4. o 0.6, pero no valores intermedios entre las cifras mencionadas.\n",
        "A continuación se muestra una tabla con los niveles correspondientes a cada puntuación.\n",
        "La cantidad de dinero conseguida en cada nivel es de 2.400€ multiplicada por la puntuación del nivel.\n",
        "\n",
        "|    Nivel    | Puntuación |\n",
        "| :---------: | :--------: |\n",
        "| Inaceptable |    0.0     |\n",
        "|  Aceptable  |    0.4     |\n",
        "|  Meritorio  |    0.6     |\n",
        "\n",
        "Escribir un programa que lea la puntuación del usuario e indique su nivel de rendimiento, así como la cantidad de dinero que recibirá el usuario."
      ],
      "metadata": {
        "id": "2AnG_HV3heHN"
      }
    },
    {
      "cell_type": "code",
      "source": [
        "# Escriba su respuesta aquí\n",
        "\n"
      ],
      "metadata": {
        "id": "ymbeAs4gicoP"
      },
      "execution_count": null,
      "outputs": []
    },
    {
      "cell_type": "markdown",
      "source": [
        "#**Ejercicio 6**\n",
        "Aventura mall tiene salas de juegos para todas las edades y quiere calcular de forma automática el precio que debe cobrar a sus clientes por entrar. El programa debe preguntar al usuario la edad del cliente y mostrar el precio de la entrada. Si el cliente es menor de 4 años puede entrar gratis, si tiene entre 4 y 18 años debe pagar 5€ y si es mayor de 18 años, 10€."
      ],
      "metadata": {
        "id": "P_tPNxo-ifhQ"
      }
    },
    {
      "cell_type": "code",
      "source": [
        "#Escriba su respuesta aquí\n",
        "\n"
      ],
      "metadata": {
        "id": "gdNDeWfIi6ou"
      },
      "execution_count": null,
      "outputs": []
    },
    {
      "cell_type": "markdown",
      "source": [
        "#**Ejercicio 7**\n",
        "La hamburguesería Goat Burguer ofrece hamburguesas vegetarianas y no vegetarianas a sus clientes. Los ingredientes para cada tipo de hamburguesa aparecen a continuación:\n",
        "\n",
        "*   Ingredientes vegetarianos: Pimiento y tofu, carne de lentejas, tomate cherry, aguacate, pepinillo.\n",
        "*   Ingredientes no vegetarianos: Crane de res, pollo, Jamón, tocineta y salasas de la casa.\n",
        "\n",
        "Escribir un programa que pregunte al usuario si quiere una hamburguesa vegetariana o no, y en función de su respuesta le muestre un menú con los ingredientes disponibles para que elija. Solo se puede eligir un ingrediente además del queso y el tomate que están en todas las hamburguesas. Al final se debe mostrar por pantalla si el tipo de hamburguesa elegida es vegetariana o no y todos los ingredientes que lleva.\n"
      ],
      "metadata": {
        "id": "_fN6y0X3i-HC"
      }
    },
    {
      "cell_type": "code",
      "source": [
        "# Escriba su respuesta aquí\n",
        "\n"
      ],
      "metadata": {
        "id": "k1VcKO32jJPt"
      },
      "execution_count": null,
      "outputs": []
    },
    {
      "cell_type": "markdown",
      "source": [
        "#**Ejercicio 8**\n",
        "Escriba un programa que pida dos números y que conteste cuál es el menor y cuál el mayor o que escriba que son iguales."
      ],
      "metadata": {
        "id": "YstVOH1SkOJT"
      }
    },
    {
      "cell_type": "code",
      "source": [
        "# Escriba su respuesta acá\n",
        "\n"
      ],
      "metadata": {
        "id": "ir0RwuXAkqSP"
      },
      "execution_count": null,
      "outputs": []
    }
  ]
}